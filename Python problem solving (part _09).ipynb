{
 "cells": [
  {
   "cell_type": "markdown",
   "id": "12189659",
   "metadata": {},
   "source": [
    "# Python problem solving (part _09)"
   ]
  },
  {
   "cell_type": "markdown",
   "id": "eb14f320",
   "metadata": {},
   "source": [
    "# 55. Tuple Slicing: Given a tuple, write a Python program to extract a slice of elements from it."
   ]
  },
  {
   "cell_type": "code",
   "execution_count": null,
   "id": "ca87d6a6",
   "metadata": {},
   "outputs": [],
   "source": [
    "input_tuple = input(\"Enter elements for the tuple separated by spaces: \")\n",
    "tuple_elements = tuple(input_tuple.split())\n",
    "\n",
    "start_index = int(input(\"Enter the start index for the slice: \"))\n",
    "end_index = int(input(\"Enter the end index for the slice: \"))\n",
    "\n",
    "# Extract the slice from the tuple\n",
    "sliced_tuple = tuple_elements[start_index:end_index]\n",
    "print(\"Extracted Slice:\", sliced_tuple)\n"
   ]
  },
  {
   "cell_type": "markdown",
   "id": "504f88d0",
   "metadata": {},
   "source": [
    "# 56. Tuple Operations: Given two tuples of integers, write a Python program to perform element-wise addition, subtraction, and multiplication and create new tuples for each operation."
   ]
  },
  {
   "cell_type": "code",
   "execution_count": null,
   "id": "dc973e1d",
   "metadata": {},
   "outputs": [],
   "source": [
    "input_tuple1 = input(\"Enter elements for the first tuple separated by spaces: \")\n",
    "tuple1 = tuple(map(int, input_tuple1.split()))\n",
    "\n",
    "input_tuple2 = input(\"Enter elements for the second tuple separated by spaces: \")\n",
    "tuple2 = tuple(map(int, input_tuple2.split()))\n",
    "\n",
    "# Perform element-wise addition\n",
    "addition_result = tuple(a + b for a, b in zip(tuple1, tuple2))\n",
    "\n",
    "# Perform element-wise subtraction\n",
    "subtraction_result = tuple(a - b for a, b in zip(tuple1, tuple2))\n",
    "\n",
    "# Perform element-wise multiplication\n",
    "multiplication_result = tuple(a * b for a, b in zip(tuple1, tuple2))\n",
    "print(\"Element-wise Addition Result:\", addition_result)\n",
    "print(\"Element-wise Subtraction Result:\", subtraction_result)\n",
    "print(\"Element-wise Multiplication Result:\", multiplication_result)\n"
   ]
  },
  {
   "cell_type": "markdown",
   "id": "428d5654",
   "metadata": {},
   "source": [
    "# 57. Tuple Membership Test: Write a Python program that takes an element as input and checks if it exists in a given tuple."
   ]
  },
  {
   "cell_type": "code",
   "execution_count": null,
   "id": "2aa4cf54",
   "metadata": {},
   "outputs": [],
   "source": [
    "test_tuple = ((\"geeksforgeeks\", \"gfg\"), (\"CS_Portal\", \"best\"))\n",
    "print(\"The original tuple is \" + str(test_tuple))\n",
    " \n",
    "if (any('geeksforgeeks' in i for i in test_tuple)):\n",
    "    print(\"geeksforgeeks is present\")\n",
    "else:\n",
    "    print(\"geeksforgeeks is not present\")"
   ]
  },
  {
   "cell_type": "markdown",
   "id": "f75091f1",
   "metadata": {},
   "source": [
    "# 58. Tuple Packing: Write a Python program to pack three variables into a single tuple and print the tuple."
   ]
  },
  {
   "cell_type": "code",
   "execution_count": null,
   "id": "4fd3385d",
   "metadata": {},
   "outputs": [],
   "source": [
    "# Get user input for three variables\n",
    "var1 = input(\"Enter the first variable: \")\n",
    "var2 = input(\"Enter the second variable: \")\n",
    "var3 = input(\"Enter the third variable: \")\n",
    "packed_tuple = (var1, var2, var3)\n",
    "print(\"Packed Tuple:\", packed_tuple)"
   ]
  },
  {
   "cell_type": "code",
   "execution_count": null,
   "id": "0b540085",
   "metadata": {},
   "outputs": [],
   "source": []
  }
 ],
 "metadata": {
  "kernelspec": {
   "display_name": "Python 3 (ipykernel)",
   "language": "python",
   "name": "python3"
  },
  "language_info": {
   "codemirror_mode": {
    "name": "ipython",
    "version": 3
   },
   "file_extension": ".py",
   "mimetype": "text/x-python",
   "name": "python",
   "nbconvert_exporter": "python",
   "pygments_lexer": "ipython3",
   "version": "3.11.5"
  }
 },
 "nbformat": 4,
 "nbformat_minor": 5
}
